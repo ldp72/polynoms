{
 "cells": [
  {
   "cell_type": "markdown",
   "id": "522663fe-89f0-4555-ba0e-3eddf07c0629",
   "metadata": {},
   "source": [
    "# Chebyshev Polynomials"
   ]
  },
  {
   "cell_type": "code",
   "execution_count": null,
   "id": "6294f8b7-3e43-4f01-8ba1-70975f20ba6a",
   "metadata": {},
   "outputs": [],
   "source": [
    "import polynomial\n",
    "T = []\n",
    "T.append(polynomial.Polynomial([1]))\n",
    "T.append(polynomial.Polynomial([1, 0]))\n",
    "print(f\"T0[X] = {T[0]}\")\n",
    "print(f\"T1[X] = {T[1]}\")\n",
    "X = polynomial.Polynomial(([1, 0]))\n",
    "print(X)"
   ]
  },
  {
   "cell_type": "code",
   "execution_count": null,
   "id": "9c486af4-aa1e-44a6-a390-83a3e32aad42",
   "metadata": {},
   "outputs": [],
   "source": [
    "max_degree = 10\n",
    "for i in range(2, max_degree + 1):\n",
    "    T.append(2 * X * T[i-1] - T[i-2])\n",
    "    print(f\"T{i}[X] = {T[i]}\")"
   ]
  },
  {
   "cell_type": "code",
   "execution_count": null,
   "id": "da2fd1eb-5c72-48a3-ba1d-013e87be4c6c",
   "metadata": {},
   "outputs": [],
   "source": []
  }
 ],
 "metadata": {
  "kernelspec": {
   "display_name": "Python 3",
   "language": "python",
   "name": "python3"
  },
  "language_info": {
   "codemirror_mode": {
    "name": "ipython",
    "version": 3
   },
   "file_extension": ".py",
   "mimetype": "text/x-python",
   "name": "python",
   "nbconvert_exporter": "python",
   "pygments_lexer": "ipython3",
   "version": "3.7.10"
  }
 },
 "nbformat": 4,
 "nbformat_minor": 5
}
