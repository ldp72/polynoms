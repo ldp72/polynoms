{
 "cells": [
  {
   "cell_type": "code",
   "execution_count": null,
   "id": "f4f26661-770a-4936-bf41-a58dac001155",
   "metadata": {},
   "outputs": [],
   "source": [
    "import polynomial"
   ]
  },
  {
   "cell_type": "markdown",
   "id": "4ca05543-bc21-4542-a581-c7f69bdcfb44",
   "metadata": {},
   "source": [
    "# Basic Operations\n",
    "## Initialization"
   ]
  },
  {
   "cell_type": "code",
   "execution_count": null,
   "id": "548d674f-9a3c-4def-b063-0a0bf01ae8a6",
   "metadata": {},
   "outputs": [],
   "source": [
    "P = polynomial.Polynomial([1, 1])\n",
    "print(P)\n",
    "Q = polynomial.Polynomial([1, 2, 3])\n",
    "print(Q)"
   ]
  },
  {
   "cell_type": "markdown",
   "id": "ed11a8bc-05d7-4e35-ba5c-1c385329c980",
   "metadata": {},
   "source": [
    "## Sum"
   ]
  },
  {
   "cell_type": "code",
   "execution_count": null,
   "id": "e34158db-a757-4ee8-9b23-64fd2ffe6390",
   "metadata": {},
   "outputs": [],
   "source": [
    "R = P + Q\n",
    "print(R)"
   ]
  },
  {
   "cell_type": "markdown",
   "id": "c859b6ba-5f83-4855-9f5b-97428b079f6e",
   "metadata": {},
   "source": [
    "## Difference"
   ]
  },
  {
   "cell_type": "code",
   "execution_count": null,
   "id": "b448b92d-74ed-47b0-aedb-8ac7638a798a",
   "metadata": {},
   "outputs": [],
   "source": [
    "R = P - Q\n",
    "print(R)"
   ]
  },
  {
   "cell_type": "markdown",
   "id": "0f49b130-520d-4c8b-a438-0392d655b741",
   "metadata": {},
   "source": [
    "## Product"
   ]
  },
  {
   "cell_type": "code",
   "execution_count": null,
   "id": "c4938af2-26e0-4bc6-85ce-005af933bc30",
   "metadata": {},
   "outputs": [],
   "source": [
    "T = P * Q\n",
    "print(T)"
   ]
  },
  {
   "cell_type": "code",
   "execution_count": null,
   "id": "0ca01b32-96a8-431a-88f5-c6f2d9b91350",
   "metadata": {},
   "outputs": [],
   "source": [
    "U = 2 * T\n",
    "print(U)"
   ]
  },
  {
   "cell_type": "code",
   "execution_count": null,
   "id": "6843a14a-99c3-4f27-a68a-30e6eea3766d",
   "metadata": {},
   "outputs": [],
   "source": []
  }
 ],
 "metadata": {
  "kernelspec": {
   "display_name": "Python 3",
   "language": "python",
   "name": "python3"
  },
  "language_info": {
   "codemirror_mode": {
    "name": "ipython",
    "version": 3
   },
   "file_extension": ".py",
   "mimetype": "text/x-python",
   "name": "python",
   "nbconvert_exporter": "python",
   "pygments_lexer": "ipython3",
   "version": "3.7.10"
  }
 },
 "nbformat": 4,
 "nbformat_minor": 5
}
